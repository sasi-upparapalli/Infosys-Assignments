{
 "cells": [
  {
   "cell_type": "code",
   "execution_count": null,
   "id": "657be46a-61c9-4b68-af46-ceb35b17607d",
   "metadata": {},
   "outputs": [],
   "source": [
    "class C:\n",
    "    def __init__(s,a,b):\n",
    "        s.a=a\n",
    "        s.b=b\n",
    "    def add(s):\n",
    "        return s.a+s.b\n",
    "    def sub(s):\n",
    "        return s.a-s.b\n",
    "    def mul(s):\n",
    "        return s.a*s.b\n",
    "    def div(s):\n",
    "        return s.a/s.b\n",
    "\n",
    "x=int(input())\n",
    "y=int(input())\n",
    "o=C(x,y)\n",
    "print(o.add())\n",
    "print(o.sub())\n",
    "print(o.mul())\n",
    "print(o.div())\n"
   ]
  },
  {
   "cell_type": "code",
   "execution_count": null,
   "id": "5734159c-9f40-46d9-8502-3af67527cff3",
   "metadata": {},
   "outputs": [],
   "source": [
    "# Multiple\n",
    "class A: \n",
    "    def f(self): \n",
    "        return \"A\"\n",
    "class B: \n",
    "    def f(self): \n",
    "        return \"B\"\n",
    "class C(A,B): \n",
    "    pass\n",
    "print(C().f())\n",
    "\n",
    "# Multilevel\n",
    "class A: \n",
    "    def f(self): \n",
    "        return \"A\"\n",
    "class B(A): \n",
    "    pass\n",
    "class C(B): \n",
    "    pass\n",
    "print(C().f())\n",
    "\n",
    "# Hierarchical\n",
    "class A: \n",
    "    def f(self): \n",
    "        return \"A\"\n",
    "class B(A): \n",
    "    pass\n",
    "class C(A): \n",
    "    pass\n",
    "print(B().f(),C().f())\n",
    "\n",
    "# Hybrid\n",
    "class A: \n",
    "    def f(self): \n",
    "        return \"A\"\n",
    "class B(A): \n",
    "    pass\n",
    "class C(A): \n",
    "    pass\n",
    "class D(B,C): \n",
    "    pass\n",
    "print(D().f())\n"
   ]
  },
  {
   "cell_type": "code",
   "execution_count": null,
   "id": "09a7ac16-1b7c-4288-95db-562031c72d69",
   "metadata": {},
   "outputs": [],
   "source": [
    "# Overriding\n",
    "class A: \n",
    "    def f(self): \n",
    "        return \"A\"\n",
    "class B(A): \n",
    "    def f(self): \n",
    "        return \"B\"\n",
    "print(B().f())\n",
    "\n",
    "# Overloading\n",
    "class A: \n",
    "    def f(self,*x): \n",
    "        return sum(x)\n",
    "print(A().f(1,2),A().f(1,2,3))\n"
   ]
  }
 ],
 "metadata": {
  "kernelspec": {
   "display_name": "Python [conda env:base] *",
   "language": "python",
   "name": "conda-base-py"
  },
  "language_info": {
   "codemirror_mode": {
    "name": "ipython",
    "version": 3
   },
   "file_extension": ".py",
   "mimetype": "text/x-python",
   "name": "python",
   "nbconvert_exporter": "python",
   "pygments_lexer": "ipython3",
   "version": "3.12.7"
  }
 },
 "nbformat": 4,
 "nbformat_minor": 5
}
